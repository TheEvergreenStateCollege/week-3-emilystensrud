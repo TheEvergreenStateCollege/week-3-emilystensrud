{
  "nbformat": 4,
  "nbformat_minor": 0,
  "metadata": {
    "colab": {
      "name": "MLB Stats.ipynb",
      "provenance": [],
      "collapsed_sections": []
    },
    "kernelspec": {
      "name": "python3",
      "display_name": "Python 3"
    },
    "language_info": {
      "name": "python"
    }
  },
  "cells": [
    {
      "cell_type": "code",
      "execution_count": 21,
      "metadata": {
        "id": "zd2I_bMtzwGj"
      },
      "outputs": [],
      "source": [
        "# imports\n",
        "import pandas as pd\n",
        "import numpy as np\n",
        "import seaborn as sns\n",
        "import matplotlib.pyplot as plt\n",
        "\n",
        "stats = pd.read_csv(\"stats.csv\")"
      ]
    },
    {
      "cell_type": "markdown",
      "source": [
        "# MLB Statcast Analysis\n",
        "Does taking more pitches create better results?\n",
        "How much does taking a first strike hurt?"
      ],
      "metadata": {
        "id": "eYLwpvQy07-v"
      }
    },
    {
      "cell_type": "code",
      "source": [
        "stats.head(5)"
      ],
      "metadata": {
        "colab": {
          "base_uri": "https://localhost:8080/",
          "height": 317
        },
        "id": "fPYHHHSm0yxz",
        "outputId": "055f1259-79f8-4a56-da0c-0039436ef06c"
      },
      "execution_count": 22,
      "outputs": [
        {
          "output_type": "execute_result",
          "data": {
            "text/plain": [
              "   last_name  first_name  player_id  year  b_ab  b_swinging_strike    xba  \\\n",
              "0    Cabrera      Miguel     408234  2021   472                259  0.234   \n",
              "1   Cruz Jr.      Nelson     443558  2021   513                344  0.265   \n",
              "2    Peralta       David     444482  2021   487                204  0.243   \n",
              "3   Blackmon     Charlie     453568  2021   514                205  0.292   \n",
              "4  McCutchen      Andrew     457705  2021   482                249  0.240   \n",
              "\n",
              "    xslg  xwoba   xobp  ...  exit_velocity_avg  launch_angle_avg  \\\n",
              "0  0.420  0.315  0.301  ...               91.4              10.0   \n",
              "1  0.514  0.364  0.341  ...               92.9              11.8   \n",
              "2  0.345  0.293  0.313  ...               89.3               5.3   \n",
              "3  0.457  0.361  0.370  ...               87.6              10.2   \n",
              "4  0.431  0.344  0.352  ...               88.8              14.6   \n",
              "\n",
              "   sweet_spot_percent  barrel  barrel_batted_rate  z_swing_percent  \\\n",
              "0                32.8      30                 8.3             69.1   \n",
              "1                31.8      54                13.6             73.8   \n",
              "2                27.2      20                 5.0             66.6   \n",
              "3                32.6      30                 7.0             67.8   \n",
              "4                33.6      32                 9.0             63.7   \n",
              "\n",
              "   oz_swing_percent  pitch_count  f_strike_percent  Unnamed: 20  \n",
              "0              30.3         2035              62.5          NaN  \n",
              "1              31.0         2198              63.4          NaN  \n",
              "2              27.0         2062              57.8          NaN  \n",
              "3              26.2         2144              61.3          NaN  \n",
              "4              19.1         2308              62.1          NaN  \n",
              "\n",
              "[5 rows x 21 columns]"
            ],
            "text/html": [
              "\n",
              "  <div id=\"df-ae65dec2-78c4-4407-83dc-c72e3479471b\">\n",
              "    <div class=\"colab-df-container\">\n",
              "      <div>\n",
              "<style scoped>\n",
              "    .dataframe tbody tr th:only-of-type {\n",
              "        vertical-align: middle;\n",
              "    }\n",
              "\n",
              "    .dataframe tbody tr th {\n",
              "        vertical-align: top;\n",
              "    }\n",
              "\n",
              "    .dataframe thead th {\n",
              "        text-align: right;\n",
              "    }\n",
              "</style>\n",
              "<table border=\"1\" class=\"dataframe\">\n",
              "  <thead>\n",
              "    <tr style=\"text-align: right;\">\n",
              "      <th></th>\n",
              "      <th>last_name</th>\n",
              "      <th>first_name</th>\n",
              "      <th>player_id</th>\n",
              "      <th>year</th>\n",
              "      <th>b_ab</th>\n",
              "      <th>b_swinging_strike</th>\n",
              "      <th>xba</th>\n",
              "      <th>xslg</th>\n",
              "      <th>xwoba</th>\n",
              "      <th>xobp</th>\n",
              "      <th>...</th>\n",
              "      <th>exit_velocity_avg</th>\n",
              "      <th>launch_angle_avg</th>\n",
              "      <th>sweet_spot_percent</th>\n",
              "      <th>barrel</th>\n",
              "      <th>barrel_batted_rate</th>\n",
              "      <th>z_swing_percent</th>\n",
              "      <th>oz_swing_percent</th>\n",
              "      <th>pitch_count</th>\n",
              "      <th>f_strike_percent</th>\n",
              "      <th>Unnamed: 20</th>\n",
              "    </tr>\n",
              "  </thead>\n",
              "  <tbody>\n",
              "    <tr>\n",
              "      <th>0</th>\n",
              "      <td>Cabrera</td>\n",
              "      <td>Miguel</td>\n",
              "      <td>408234</td>\n",
              "      <td>2021</td>\n",
              "      <td>472</td>\n",
              "      <td>259</td>\n",
              "      <td>0.234</td>\n",
              "      <td>0.420</td>\n",
              "      <td>0.315</td>\n",
              "      <td>0.301</td>\n",
              "      <td>...</td>\n",
              "      <td>91.4</td>\n",
              "      <td>10.0</td>\n",
              "      <td>32.8</td>\n",
              "      <td>30</td>\n",
              "      <td>8.3</td>\n",
              "      <td>69.1</td>\n",
              "      <td>30.3</td>\n",
              "      <td>2035</td>\n",
              "      <td>62.5</td>\n",
              "      <td>NaN</td>\n",
              "    </tr>\n",
              "    <tr>\n",
              "      <th>1</th>\n",
              "      <td>Cruz Jr.</td>\n",
              "      <td>Nelson</td>\n",
              "      <td>443558</td>\n",
              "      <td>2021</td>\n",
              "      <td>513</td>\n",
              "      <td>344</td>\n",
              "      <td>0.265</td>\n",
              "      <td>0.514</td>\n",
              "      <td>0.364</td>\n",
              "      <td>0.341</td>\n",
              "      <td>...</td>\n",
              "      <td>92.9</td>\n",
              "      <td>11.8</td>\n",
              "      <td>31.8</td>\n",
              "      <td>54</td>\n",
              "      <td>13.6</td>\n",
              "      <td>73.8</td>\n",
              "      <td>31.0</td>\n",
              "      <td>2198</td>\n",
              "      <td>63.4</td>\n",
              "      <td>NaN</td>\n",
              "    </tr>\n",
              "    <tr>\n",
              "      <th>2</th>\n",
              "      <td>Peralta</td>\n",
              "      <td>David</td>\n",
              "      <td>444482</td>\n",
              "      <td>2021</td>\n",
              "      <td>487</td>\n",
              "      <td>204</td>\n",
              "      <td>0.243</td>\n",
              "      <td>0.345</td>\n",
              "      <td>0.293</td>\n",
              "      <td>0.313</td>\n",
              "      <td>...</td>\n",
              "      <td>89.3</td>\n",
              "      <td>5.3</td>\n",
              "      <td>27.2</td>\n",
              "      <td>20</td>\n",
              "      <td>5.0</td>\n",
              "      <td>66.6</td>\n",
              "      <td>27.0</td>\n",
              "      <td>2062</td>\n",
              "      <td>57.8</td>\n",
              "      <td>NaN</td>\n",
              "    </tr>\n",
              "    <tr>\n",
              "      <th>3</th>\n",
              "      <td>Blackmon</td>\n",
              "      <td>Charlie</td>\n",
              "      <td>453568</td>\n",
              "      <td>2021</td>\n",
              "      <td>514</td>\n",
              "      <td>205</td>\n",
              "      <td>0.292</td>\n",
              "      <td>0.457</td>\n",
              "      <td>0.361</td>\n",
              "      <td>0.370</td>\n",
              "      <td>...</td>\n",
              "      <td>87.6</td>\n",
              "      <td>10.2</td>\n",
              "      <td>32.6</td>\n",
              "      <td>30</td>\n",
              "      <td>7.0</td>\n",
              "      <td>67.8</td>\n",
              "      <td>26.2</td>\n",
              "      <td>2144</td>\n",
              "      <td>61.3</td>\n",
              "      <td>NaN</td>\n",
              "    </tr>\n",
              "    <tr>\n",
              "      <th>4</th>\n",
              "      <td>McCutchen</td>\n",
              "      <td>Andrew</td>\n",
              "      <td>457705</td>\n",
              "      <td>2021</td>\n",
              "      <td>482</td>\n",
              "      <td>249</td>\n",
              "      <td>0.240</td>\n",
              "      <td>0.431</td>\n",
              "      <td>0.344</td>\n",
              "      <td>0.352</td>\n",
              "      <td>...</td>\n",
              "      <td>88.8</td>\n",
              "      <td>14.6</td>\n",
              "      <td>33.6</td>\n",
              "      <td>32</td>\n",
              "      <td>9.0</td>\n",
              "      <td>63.7</td>\n",
              "      <td>19.1</td>\n",
              "      <td>2308</td>\n",
              "      <td>62.1</td>\n",
              "      <td>NaN</td>\n",
              "    </tr>\n",
              "  </tbody>\n",
              "</table>\n",
              "<p>5 rows × 21 columns</p>\n",
              "</div>\n",
              "      <button class=\"colab-df-convert\" onclick=\"convertToInteractive('df-ae65dec2-78c4-4407-83dc-c72e3479471b')\"\n",
              "              title=\"Convert this dataframe to an interactive table.\"\n",
              "              style=\"display:none;\">\n",
              "        \n",
              "  <svg xmlns=\"http://www.w3.org/2000/svg\" height=\"24px\"viewBox=\"0 0 24 24\"\n",
              "       width=\"24px\">\n",
              "    <path d=\"M0 0h24v24H0V0z\" fill=\"none\"/>\n",
              "    <path d=\"M18.56 5.44l.94 2.06.94-2.06 2.06-.94-2.06-.94-.94-2.06-.94 2.06-2.06.94zm-11 1L8.5 8.5l.94-2.06 2.06-.94-2.06-.94L8.5 2.5l-.94 2.06-2.06.94zm10 10l.94 2.06.94-2.06 2.06-.94-2.06-.94-.94-2.06-.94 2.06-2.06.94z\"/><path d=\"M17.41 7.96l-1.37-1.37c-.4-.4-.92-.59-1.43-.59-.52 0-1.04.2-1.43.59L10.3 9.45l-7.72 7.72c-.78.78-.78 2.05 0 2.83L4 21.41c.39.39.9.59 1.41.59.51 0 1.02-.2 1.41-.59l7.78-7.78 2.81-2.81c.8-.78.8-2.07 0-2.86zM5.41 20L4 18.59l7.72-7.72 1.47 1.35L5.41 20z\"/>\n",
              "  </svg>\n",
              "      </button>\n",
              "      \n",
              "  <style>\n",
              "    .colab-df-container {\n",
              "      display:flex;\n",
              "      flex-wrap:wrap;\n",
              "      gap: 12px;\n",
              "    }\n",
              "\n",
              "    .colab-df-convert {\n",
              "      background-color: #E8F0FE;\n",
              "      border: none;\n",
              "      border-radius: 50%;\n",
              "      cursor: pointer;\n",
              "      display: none;\n",
              "      fill: #1967D2;\n",
              "      height: 32px;\n",
              "      padding: 0 0 0 0;\n",
              "      width: 32px;\n",
              "    }\n",
              "\n",
              "    .colab-df-convert:hover {\n",
              "      background-color: #E2EBFA;\n",
              "      box-shadow: 0px 1px 2px rgba(60, 64, 67, 0.3), 0px 1px 3px 1px rgba(60, 64, 67, 0.15);\n",
              "      fill: #174EA6;\n",
              "    }\n",
              "\n",
              "    [theme=dark] .colab-df-convert {\n",
              "      background-color: #3B4455;\n",
              "      fill: #D2E3FC;\n",
              "    }\n",
              "\n",
              "    [theme=dark] .colab-df-convert:hover {\n",
              "      background-color: #434B5C;\n",
              "      box-shadow: 0px 1px 3px 1px rgba(0, 0, 0, 0.15);\n",
              "      filter: drop-shadow(0px 1px 2px rgba(0, 0, 0, 0.3));\n",
              "      fill: #FFFFFF;\n",
              "    }\n",
              "  </style>\n",
              "\n",
              "      <script>\n",
              "        const buttonEl =\n",
              "          document.querySelector('#df-ae65dec2-78c4-4407-83dc-c72e3479471b button.colab-df-convert');\n",
              "        buttonEl.style.display =\n",
              "          google.colab.kernel.accessAllowed ? 'block' : 'none';\n",
              "\n",
              "        async function convertToInteractive(key) {\n",
              "          const element = document.querySelector('#df-ae65dec2-78c4-4407-83dc-c72e3479471b');\n",
              "          const dataTable =\n",
              "            await google.colab.kernel.invokeFunction('convertToInteractive',\n",
              "                                                     [key], {});\n",
              "          if (!dataTable) return;\n",
              "\n",
              "          const docLinkHtml = 'Like what you see? Visit the ' +\n",
              "            '<a target=\"_blank\" href=https://colab.research.google.com/notebooks/data_table.ipynb>data table notebook</a>'\n",
              "            + ' to learn more about interactive tables.';\n",
              "          element.innerHTML = '';\n",
              "          dataTable['output_type'] = 'display_data';\n",
              "          await google.colab.output.renderOutput(dataTable, element);\n",
              "          const docLink = document.createElement('div');\n",
              "          docLink.innerHTML = docLinkHtml;\n",
              "          element.appendChild(docLink);\n",
              "        }\n",
              "      </script>\n",
              "    </div>\n",
              "  </div>\n",
              "  "
            ]
          },
          "metadata": {},
          "execution_count": 22
        }
      ]
    },
    {
      "cell_type": "markdown",
      "source": [
        "Let's take a look at how well batters hit compared to how many pitches they see."
      ],
      "metadata": {
        "id": "v84V6Vfr2XFb"
      }
    },
    {
      "cell_type": "code",
      "source": [
        "sns.lmplot(data = stats, x = \"pitch_count\", y = \"barrel_batted_rate\")"
      ],
      "metadata": {
        "colab": {
          "base_uri": "https://localhost:8080/",
          "height": 386
        },
        "id": "EfI9p-Dn1aiG",
        "outputId": "65588fd5-63e7-4daf-ba64-1505c764c697"
      },
      "execution_count": 23,
      "outputs": [
        {
          "output_type": "execute_result",
          "data": {
            "text/plain": [
              "<seaborn.axisgrid.FacetGrid at 0x7f2f759b81d0>"
            ]
          },
          "metadata": {},
          "execution_count": 23
        },
        {
          "output_type": "display_data",
          "data": {
            "text/plain": [
              "<Figure size 360x360 with 1 Axes>"
            ],
            "image/png": "[encoded data removed]"
          },
          "metadata": {
            "needs_background": "light"
          }
        }
      ]
    },
    {
      "cell_type": "markdown",
      "source": [
        "A \"barrel\" in these terms is a hit that has an exit velocity of at least 98mph, with a widening allowable launch angle with higher velocities (at lower exit velocities, a hit must be sent at a more optimal launch angle to qualify as a barrel.)\n",
        "\n",
        "At first glance, it appears that taking more pitches doesn't have much of a correlation with the average barrel rate, seeming to imply that being more patient at the plate doesn't necessarily result in better contact.\n",
        "\n",
        "However, there are some potential flaws in the data: A batter with more at-bats will almost certainly see more pitches than a batter with less at-bats. Determining how many pitches each batter sees per at bat will potentially give better results."
      ],
      "metadata": {
        "id": "N1HqR1vQ06-e"
      }
    },
    {
      "cell_type": "code",
      "source": [
        "stats['pitches_per_ab'] = stats['pitch_count'] / stats['b_ab']\n",
        "sns.lmplot(data = stats, x = \"pitches_per_ab\", y = \"barrel_batted_rate\")"
      ],
      "metadata": {
        "colab": {
          "base_uri": "https://localhost:8080/",
          "height": 386
        },
        "id": "0blT8s7J5eCS",
        "outputId": "68ce089c-fb81-491d-b6cf-6f8ad293fe7a"
      },
      "execution_count": 24,
      "outputs": [
        {
          "output_type": "execute_result",
          "data": {
            "text/plain": [
              "<seaborn.axisgrid.FacetGrid at 0x7f2f7592aa50>"
            ]
          },
          "metadata": {},
          "execution_count": 24
        },
        {
          "output_type": "display_data",
          "data": {
            "text/plain": [
              "<Figure size 360x360 with 1 Axes>"
            ],
            "image/png": "[encoded data removed]"
          },
          "metadata": {
            "needs_background": "light"
          }
        }
      ]
    },
    {
      "cell_type": "markdown",
      "source": [
        "It appears that this creates a bit more of a correlation between patience at the plate and getting clean contact on the ball. There are still many outliers, but it certainly seems that there is a benefit to waiting for the correct pitch.\n",
        "\n",
        "Let's now look at how much harder it is to get a solid hit if you take a first strike:"
      ],
      "metadata": {
        "id": "gykfyZ_T6xLv"
      }
    },
    {
      "cell_type": "code",
      "source": [
        "sns.lmplot(data = stats, x = \"f_strike_percent\", y = \"barrel_batted_rate\")"
      ],
      "metadata": {
        "colab": {
          "base_uri": "https://localhost:8080/",
          "height": 386
        },
        "id": "QOgIEnWx7DZC",
        "outputId": "e61d4541-7f02-4dd1-9e6b-f7ea97470ac5"
      },
      "execution_count": 25,
      "outputs": [
        {
          "output_type": "execute_result",
          "data": {
            "text/plain": [
              "<seaborn.axisgrid.FacetGrid at 0x7f2f758a55d0>"
            ]
          },
          "metadata": {},
          "execution_count": 25
        },
        {
          "output_type": "display_data",
          "data": {
            "text/plain": [
              "<Figure size 360x360 with 1 Axes>"
            ],
            "image/png": "[encoded data removed]"
          },
          "metadata": {
            "needs_background": "light"
          }
        }
      ]
    },
    {
      "cell_type": "markdown",
      "source": [
        "There isn't an extremely strong correlation, but it appears that taking a first-pitch strike definitely affects your ability to get the barrel on the ball. "
      ],
      "metadata": {
        "id": "kQuyJpMp8TED"
      }
    },
    {
      "cell_type": "code",
      "source": [
        "from sklearn.linear_model import LinearRegression\n",
        "model = LinearRegression()\n",
        "model.fit(stats[['barrel_batted_rate']], stats[['f_strike_percent']])\n",
        "model_fitted = model.predict(stats[['barrel_batted_rate']])\n",
        "plt.scatter(model_fitted, stats[['barrel_batted_rate']] - model_fitted)"
      ],
      "metadata": {
        "colab": {
          "base_uri": "https://localhost:8080/",
          "height": 282
        },
        "id": "NZpKaEEh4uBn",
        "outputId": "0f64cdbf-c7e0-4af9-ba2a-65d9100ea133"
      },
      "execution_count": 37,
      "outputs": [
        {
          "output_type": "execute_result",
          "data": {
            "text/plain": [
              "<matplotlib.collections.PathCollection at 0x7f2f750d4e10>"
            ]
          },
          "metadata": {},
          "execution_count": 37
        },
        {
          "output_type": "display_data",
          "data": {
            "text/plain": [
              "<Figure size 432x288 with 1 Axes>"
            ],
            "image/png": "[encoded data removed]"
          },
          "metadata": {
            "needs_background": "light"
          }
        }
      ]
    },
    {
      "cell_type": "markdown",
      "source": [
        "Running linear regression on the model shows that taking a first-pitch strike makes it far harder to get good contact on a baseball. This makes sense, as a pitcher who already has a 0-1 count can force the batter to chase pitches outside the zone, leading to less solid contact."
      ],
      "metadata": {
        "id": "mVQ_oXME-Cul"
      }
    }
  ]
}