{
  "cells": [
    {
      "cell_type": "code",
      "execution_count": null,
      "metadata": {
        "deletable": false,
        "editable": false,
        "id": "C1bBlgEWkARJ"
      },
      "outputs": [],
      "source": [
        "# Initialize Otter\n",
        "import otter\n",
        "grader = otter.Notebook(\"lab07.ipynb\")"
      ]
    },
    {
      "cell_type": "markdown",
      "metadata": {
        "id": "mQucPBSWkARV"
      },
      "source": [
        "# Lab 7: Simple Linear Regression\n",
        "\n",
        "### Objective\n",
        "\n",
        "In this lab, we will review some of the details of how linear regression works as described in Lectures 12 and 13.\n",
        "\n",
        "We will also show you how to do linear regression using various real world tools including:\n",
        "- (Question 1) `seaborn`\n",
        "- (Question 2) analytic solution\n",
        "- (Question 3) `scipy.optimize`\n",
        "- (Question 4 & 5) `scikit-learn`\n",
        "\n",
        "In real world data science work, you are far more likely to use something similar to the `seaborn` and `scikit-learn` approaches, but it is important to know how to use the formulaic and `scipy.optimize` approaches so that you understand what is really going on.\n",
        "\n",
        "**This assignment should be completed and submitted by 11:59 PM PDT on Tuesday, October 12th.**\n",
        "\n",
        "\n",
        "### Collaboration Policy\n",
        "\n",
        "Data science is a collaborative activity. While you may talk to others about the labs, we ask that you **write your solutions individually**. If you do discuss the assignments with others, please **include their names** in the following cell:"
      ]
    },
    {
      "cell_type": "markdown",
      "metadata": {
        "id": "gx7a-eK3kARj"
      },
      "source": [
        "_List collaborators here_"
      ]
    },
    {
      "cell_type": "code",
      "execution_count": 1,
      "metadata": {
        "id": "wi_hS_2lkARo"
      },
      "outputs": [],
      "source": [
        "# Run this cell\n",
        "import pandas as pd\n",
        "import numpy as np\n",
        "import seaborn as sns\n",
        "import matplotlib.pyplot as plt"
      ]
    },
    {
      "cell_type": "code",
      "execution_count": 2,
      "metadata": {
        "id": "qGVfOL46kARt"
      },
      "outputs": [],
      "source": [
        "# Run this cell to suppress all DeprecationWarnings\n",
        "import warnings\n",
        "warnings.filterwarnings(\"ignore\", category=FutureWarning)"
      ]
    },
    {
      "cell_type": "markdown",
      "metadata": {
        "id": "t339J8LskARy"
      },
      "source": [
        "We begin by importing the tips dataset that we also explored in Lab 6."
      ]
    },
    {
      "cell_type": "code",
      "execution_count": 3,
      "metadata": {
        "id": "J2aRb1ItkAR2"
      },
      "outputs": [],
      "source": [
        "tips = sns.load_dataset(\"tips\")"
      ]
    },
    {
      "cell_type": "code",
      "execution_count": 4,
      "metadata": {
        "id": "bc3eia2OkAR5",
        "colab": {
          "base_uri": "https://localhost:8080/",
          "height": 206
        },
        "outputId": "bf8b0249-dd5f-423d-fdac-3325a01d375e"
      },
      "outputs": [
        {
          "output_type": "execute_result",
          "data": {
            "text/plain": [
              "   total_bill   tip     sex smoker  day    time  size\n",
              "0       16.99  1.01  Female     No  Sun  Dinner     2\n",
              "1       10.34  1.66    Male     No  Sun  Dinner     3\n",
              "2       21.01  3.50    Male     No  Sun  Dinner     3\n",
              "3       23.68  3.31    Male     No  Sun  Dinner     2\n",
              "4       24.59  3.61  Female     No  Sun  Dinner     4"
            ],
            "text/html": [
              "\n",
              "  <div id=\"df-e4f14f19-5257-45fe-b59c-35701fec5e9c\">\n",
              "    <div class=\"colab-df-container\">\n",
              "      <div>\n",
              "<style scoped>\n",
              "    .dataframe tbody tr th:only-of-type {\n",
              "        vertical-align: middle;\n",
              "    }\n",
              "\n",
              "    .dataframe tbody tr th {\n",
              "        vertical-align: top;\n",
              "    }\n",
              "\n",
              "    .dataframe thead th {\n",
              "        text-align: right;\n",
              "    }\n",
              "</style>\n",
              "<table border=\"1\" class=\"dataframe\">\n",
              "  <thead>\n",
              "    <tr style=\"text-align: right;\">\n",
              "      <th></th>\n",
              "      <th>total_bill</th>\n",
              "      <th>tip</th>\n",
              "      <th>sex</th>\n",
              "      <th>smoker</th>\n",
              "      <th>day</th>\n",
              "      <th>time</th>\n",
              "      <th>size</th>\n",
              "    </tr>\n",
              "  </thead>\n",
              "  <tbody>\n",
              "    <tr>\n",
              "      <th>0</th>\n",
              "      <td>16.99</td>\n",
              "      <td>1.01</td>\n",
              "      <td>Female</td>\n",
              "      <td>No</td>\n",
              "      <td>Sun</td>\n",
              "      <td>Dinner</td>\n",
              "      <td>2</td>\n",
              "    </tr>\n",
              "    <tr>\n",
              "      <th>1</th>\n",
              "      <td>10.34</td>\n",
              "      <td>1.66</td>\n",
              "      <td>Male</td>\n",
              "      <td>No</td>\n",
              "      <td>Sun</td>\n",
              "      <td>Dinner</td>\n",
              "      <td>3</td>\n",
              "    </tr>\n",
              "    <tr>\n",
              "      <th>2</th>\n",
              "      <td>21.01</td>\n",
              "      <td>3.50</td>\n",
              "      <td>Male</td>\n",
              "      <td>No</td>\n",
              "      <td>Sun</td>\n",
              "      <td>Dinner</td>\n",
              "      <td>3</td>\n",
              "    </tr>\n",
              "    <tr>\n",
              "      <th>3</th>\n",
              "      <td>23.68</td>\n",
              "      <td>3.31</td>\n",
              "      <td>Male</td>\n",
              "      <td>No</td>\n",
              "      <td>Sun</td>\n",
              "      <td>Dinner</td>\n",
              "      <td>2</td>\n",
              "    </tr>\n",
              "    <tr>\n",
              "      <th>4</th>\n",
              "      <td>24.59</td>\n",
              "      <td>3.61</td>\n",
              "      <td>Female</td>\n",
              "      <td>No</td>\n",
              "      <td>Sun</td>\n",
              "      <td>Dinner</td>\n",
              "      <td>4</td>\n",
              "    </tr>\n",
              "  </tbody>\n",
              "</table>\n",
              "</div>\n",
              "      <button class=\"colab-df-convert\" onclick=\"convertToInteractive('df-e4f14f19-5257-45fe-b59c-35701fec5e9c')\"\n",
              "              title=\"Convert this dataframe to an interactive table.\"\n",
              "              style=\"display:none;\">\n",
              "        \n",
              "  <svg xmlns=\"http://www.w3.org/2000/svg\" height=\"24px\"viewBox=\"0 0 24 24\"\n",
              "       width=\"24px\">\n",
              "    <path d=\"M0 0h24v24H0V0z\" fill=\"none\"/>\n",
              "    <path d=\"M18.56 5.44l.94 2.06.94-2.06 2.06-.94-2.06-.94-.94-2.06-.94 2.06-2.06.94zm-11 1L8.5 8.5l.94-2.06 2.06-.94-2.06-.94L8.5 2.5l-.94 2.06-2.06.94zm10 10l.94 2.06.94-2.06 2.06-.94-2.06-.94-.94-2.06-.94 2.06-2.06.94z\"/><path d=\"M17.41 7.96l-1.37-1.37c-.4-.4-.92-.59-1.43-.59-.52 0-1.04.2-1.43.59L10.3 9.45l-7.72 7.72c-.78.78-.78 2.05 0 2.83L4 21.41c.39.39.9.59 1.41.59.51 0 1.02-.2 1.41-.59l7.78-7.78 2.81-2.81c.8-.78.8-2.07 0-2.86zM5.41 20L4 18.59l7.72-7.72 1.47 1.35L5.41 20z\"/>\n",
              "  </svg>\n",
              "      </button>\n",
              "      \n",
              "  <style>\n",
              "    .colab-df-container {\n",
              "      display:flex;\n",
              "      flex-wrap:wrap;\n",
              "      gap: 12px;\n",
              "    }\n",
              "\n",
              "    .colab-df-convert {\n",
              "      background-color: #E8F0FE;\n",
              "      border: none;\n",
              "      border-radius: 50%;\n",
              "      cursor: pointer;\n",
              "      display: none;\n",
              "      fill: #1967D2;\n",
              "      height: 32px;\n",
              "      padding: 0 0 0 0;\n",
              "      width: 32px;\n",
              "    }\n",
              "\n",
              "    .colab-df-convert:hover {\n",
              "      background-color: #E2EBFA;\n",
              "      box-shadow: 0px 1px 2px rgba(60, 64, 67, 0.3), 0px 1px 3px 1px rgba(60, 64, 67, 0.15);\n",
              "      fill: #174EA6;\n",
              "    }\n",
              "\n",
              "    [theme=dark] .colab-df-convert {\n",
              "      background-color: #3B4455;\n",
              "      fill: #D2E3FC;\n",
              "    }\n",
              "\n",
              "    [theme=dark] .colab-df-convert:hover {\n",
              "      background-color: #434B5C;\n",
              "      box-shadow: 0px 1px 3px 1px rgba(0, 0, 0, 0.15);\n",
              "      filter: drop-shadow(0px 1px 2px rgba(0, 0, 0, 0.3));\n",
              "      fill: #FFFFFF;\n",
              "    }\n",
              "  </style>\n",
              "\n",
              "      <script>\n",
              "        const buttonEl =\n",
              "          document.querySelector('#df-e4f14f19-5257-45fe-b59c-35701fec5e9c button.colab-df-convert');\n",
              "        buttonEl.style.display =\n",
              "          google.colab.kernel.accessAllowed ? 'block' : 'none';\n",
              "\n",
              "        async function convertToInteractive(key) {\n",
              "          const element = document.querySelector('#df-e4f14f19-5257-45fe-b59c-35701fec5e9c');\n",
              "          const dataTable =\n",
              "            await google.colab.kernel.invokeFunction('convertToInteractive',\n",
              "                                                     [key], {});\n",
              "          if (!dataTable) return;\n",
              "\n",
              "          const docLinkHtml = 'Like what you see? Visit the ' +\n",
              "            '<a target=\"_blank\" href=https://colab.research.google.com/notebooks/data_table.ipynb>data table notebook</a>'\n",
              "            + ' to learn more about interactive tables.';\n",
              "          element.innerHTML = '';\n",
              "          dataTable['output_type'] = 'display_data';\n",
              "          await google.colab.output.renderOutput(dataTable, element);\n",
              "          const docLink = document.createElement('div');\n",
              "          docLink.innerHTML = docLinkHtml;\n",
              "          element.appendChild(docLink);\n",
              "        }\n",
              "      </script>\n",
              "    </div>\n",
              "  </div>\n",
              "  "
            ]
          },
          "metadata": {},
          "execution_count": 4
        }
      ],
      "source": [
        "tips.head(5)"
      ]
    },
    {
      "cell_type": "markdown",
      "metadata": {
        "id": "3Dm1ZKnpkAR_"
      },
      "source": [
        "In Lab 6, we fit a **constant** model to this dataset, meaning our model was $\\hat{y} = \\theta$. In other words, given the set of tips `tips['tip']`, we tried to find a summary statistic $\\theta$ that best represented our set of tips. To find the value of $\\theta$, we minimized the following empirical risk:\n",
        "\n",
        "$$R(\\theta) = \\frac{1}{n}\\sum_{i = 1}^n L(y_i, \\theta)$$\n",
        "\n",
        "Here, $\\mathcal{D} = \\{y_1, y_2, ..., y_n \\}$ refers to our set of `tips` values.\n",
        "\n",
        "We looked at two different loss functions:\n",
        "\n",
        "- $L_2(y_i, \\hat{y_i}) = (y_i - \\hat{y_i})^2$\n",
        "\n",
        "- $L_1(y_i, \\hat{y_i}) = \\left| y_i - \\hat{y_i} \\right|$\n",
        "\n",
        "\n",
        "<br>\n",
        "\n",
        "By contrast, in this lab, we're interested in studying the **relationship between two variables**. Specifically, we're interested in the relationship between the `total_bill` column and `tip` column. Our goal will be to predict tip ($y$) from total_bill ($x$), i.e., we want to find values of $a$ and $b$ so that given $x$, predict $y$ as\n",
        "$$\\boxed{\\hat{y} = a + bx}$$\n",
        "We will now explore different ways to obtain the optimal values of $a, b$, called $\\hat{a}, \\hat{b}$, where $\\hat{y} = \\hat{a} + \\hat{b}x$."
      ]
    },
    {
      "cell_type": "markdown",
      "metadata": {
        "id": "X-kWjubwkASE"
      },
      "source": [
        "First, let's run `sns.lmplot`, which will both provide a scatterplot of `tip` vs `total_bill` and display the least-squares line of best fit. We will look into solving for the line of best fit in three different ways: manually using the formula from lecture, `scipy.optimize`, and `scikit-learn`."
      ]
    },
    {
      "cell_type": "code",
      "execution_count": 5,
      "metadata": {
        "id": "llfvOGOzkASH",
        "colab": {
          "base_uri": "https://localhost:8080/",
          "height": 369
        },
        "outputId": "6e0a7453-9c98-4407-e179-825d193e8651"
      },
      "outputs": [
        {
          "output_type": "display_data",
          "data": {
            "text/plain": [
              "<Figure size 360x360 with 1 Axes>"
            ],
            "image/png": "[encoded data removed]"
          },
          "metadata": {
            "needs_background": "light"
          }
        }
      ],
      "source": [
        "sns.lmplot(data = tips, x = \"total_bill\", y = \"tip\");"
      ]
    },
    {
      "cell_type": "markdown",
      "metadata": {
        "id": "39wDS7efkASK"
      },
      "source": [
        "## Question 1 – Analytic Solution"
      ]
    },
    {
      "cell_type": "markdown",
      "metadata": {
        "id": "BOignXfIkASM"
      },
      "source": [
        "In [Lecture 12](http://ds100.org/sp21/lecture/lec12/), we derived the following expression for the line of best fit.\n",
        "\n",
        "$$\\hat{y_i} = \\bar{y} + r \\frac{SD(y)}{SD(x)} (x_i - \\bar{x})$$\n",
        "\n",
        "where $\\bar{x}$, $\\bar{y}$, $SD(x)$, $SD(y)$ correspond to the means and standard deviations of $x$ and $y$, respectively, and $r$ is the correlation coefficient."
      ]
    },
    {
      "cell_type": "markdown",
      "metadata": {
        "deletable": false,
        "editable": false,
        "id": "eVIT_K5VkASP"
      },
      "source": [
        "### Question 1a\n",
        "\n",
        "Assign `x_bar`, `y_bar`, `std_x`, `std_y`, and `r`, for our dataset. Note: Make sure to use `np.std`, and not `<Series name>.std()`.\n",
        "\n",
        "- Hint: Remember, in our case, `y` is `tip`, and `x` is `total_bill`.\n",
        "- Hint: You may find `np.corrcoef` handy in computing `r`. Note that the output of `np.corrcoef` is a matrix, not a number, so you'll need to collect the correlation coefficient by indexing into the returned array.\n",
        "\n",
        "<!--\n",
        "BEGIN QUESTION\n",
        "name: q1a\n",
        "-->"
      ]
    },
    {
      "cell_type": "code",
      "execution_count": 16,
      "metadata": {
        "id": "Ai6pLWa3kASS"
      },
      "outputs": [],
      "source": [
        "x_bar = np.mean(tips[\"total_bill\"])\n",
        "y_bar = np.mean(tips[\"tip\"])\n",
        "std_x = np.std(tips[\"total_bill\"])\n",
        "std_y = np.std(tips[\"tip\"])\n",
        "r = np.corrcoef(tips[\"total_bill\"], tips[\"tip\"])[0,1]"
      ]
    },
    {
      "cell_type": "code",
      "execution_count": null,
      "metadata": {
        "deletable": false,
        "editable": false,
        "id": "ZJcwAwwpkASV"
      },
      "outputs": [],
      "source": [
        "grader.check(\"q1a\")"
      ]
    },
    {
      "cell_type": "markdown",
      "metadata": {
        "id": "MmU6ChstkASY"
      },
      "source": [
        "### Question 1b"
      ]
    },
    {
      "cell_type": "markdown",
      "metadata": {
        "deletable": false,
        "editable": false,
        "id": "55ogRcsAkASb"
      },
      "source": [
        "Now, set `b_hat` and `a_hat` correctly, in terms of the variables you defined above. \n",
        "\n",
        "- Hint: Try and match the slope and intercept in $\\hat{y_i} = \\hat{a} + \\hat{b}x_i$ to the slope and intercept in $\\hat{y_i} = \\bar{y} + r \\frac{SD(y)}{SD(x)} (x_i - \\bar{x})$.\n",
        "\n",
        "- Hint: You may want to define `a_hat` in terms of `b_hat`.\n",
        "\n",
        "<!--\n",
        "BEGIN QUESTION\n",
        "name: q1b\n",
        "-->"
      ]
    },
    {
      "cell_type": "code",
      "execution_count": 17,
      "metadata": {
        "id": "entEVEqekASg",
        "colab": {
          "base_uri": "https://localhost:8080/"
        },
        "outputId": "ebf3a0de-5a68-4e30-f56c-1c9374895d60"
      },
      "outputs": [
        {
          "output_type": "stream",
          "name": "stdout",
          "text": [
            "0.1050245173843534\n",
            "0.9202696135546726\n"
          ]
        }
      ],
      "source": [
        "b_hat = r * std_y / std_x\n",
        "a_hat = y_bar - (x_bar * b_hat)\n",
        "print(b_hat)\n",
        "print(a_hat)"
      ]
    },
    {
      "cell_type": "code",
      "execution_count": null,
      "metadata": {
        "deletable": false,
        "editable": false,
        "id": "dSZNBqYIkASj"
      },
      "outputs": [],
      "source": [
        "grader.check(\"q1b\")"
      ]
    },
    {
      "cell_type": "markdown",
      "metadata": {
        "deletable": false,
        "editable": false,
        "id": "dBNoaeUIkASl"
      },
      "source": [
        "### Question 1c\n",
        "\n",
        "Now, use `a_hat` and `b_hat` to predict the tip for a total bill amount of $20. Store your result in `predicted_20`.\n",
        "\n",
        "<!--\n",
        "BEGIN QUESTION\n",
        "name: q1c\n",
        "-->"
      ]
    },
    {
      "cell_type": "code",
      "execution_count": 18,
      "metadata": {
        "id": "WyYVzlgjkASo",
        "colab": {
          "base_uri": "https://localhost:8080/"
        },
        "outputId": "7d145fcc-7d09-4320-bce5-7e903cae3743"
      },
      "outputs": [
        {
          "output_type": "execute_result",
          "data": {
            "text/plain": [
              "3.0207599612417404"
            ]
          },
          "metadata": {},
          "execution_count": 18
        }
      ],
      "source": [
        "predicted_20 = a_hat + (20 * b_hat)\n",
        "predicted_20"
      ]
    },
    {
      "cell_type": "code",
      "execution_count": null,
      "metadata": {
        "deletable": false,
        "editable": false,
        "id": "5hiUrJO0kASq"
      },
      "outputs": [],
      "source": [
        "grader.check(\"q1c\")"
      ]
    },
    {
      "cell_type": "markdown",
      "metadata": {
        "deletable": false,
        "editable": false,
        "id": "DGa1tV_UkASs"
      },
      "source": [
        "### Question 1d\n",
        "Assign `regression` to be a `pd.Series` of predicted $y$ values (i.e., predicted `\"tip\"` values) for the observed total bills (`tips[\"total_bill\"]`). You will need to use `a_hat`, `b_hat`, and `tips[\"total_bill\"]`.\n",
        "\n",
        "<!--\n",
        "BEGIN QUESTION\n",
        "name: q1d\n",
        "-->"
      ]
    },
    {
      "cell_type": "code",
      "execution_count": 63,
      "metadata": {
        "id": "ShzjbVvRkASu",
        "colab": {
          "base_uri": "https://localhost:8080/"
        },
        "outputId": "3aed0377-6751-43f3-e60e-bc7c0b1dc2e3"
      },
      "outputs": [
        {
          "output_type": "stream",
          "name": "stdout",
          "text": [
            "2.99827868852459\n"
          ]
        }
      ],
      "source": [
        "regression = pd.Series(a_hat + (b_hat * tips[\"total_bill\"]))\n",
        "print(regression.mean())"
      ]
    },
    {
      "cell_type": "code",
      "execution_count": null,
      "metadata": {
        "deletable": false,
        "editable": false,
        "id": "uVVXipFSkASy"
      },
      "outputs": [],
      "source": [
        "grader.check(\"q1d\")"
      ]
    },
    {
      "cell_type": "markdown",
      "metadata": {
        "id": "JAeTpF8dkAS0"
      },
      "source": [
        "If you defined `regression` correctly, the following cell will generate a scatter plot of `tip` vs. `total_bill`, along with the line of best fit you just computed."
      ]
    },
    {
      "cell_type": "code",
      "execution_count": 64,
      "metadata": {
        "id": "r6f2H9U8kAS2",
        "colab": {
          "base_uri": "https://localhost:8080/",
          "height": 280
        },
        "outputId": "50c0b330-002c-4290-cbc5-d4822c50aac0"
      },
      "outputs": [
        {
          "output_type": "display_data",
          "data": {
            "text/plain": [
              "<Figure size 432x288 with 1 Axes>"
            ],
            "image/png": "[encoded data removed]"
          },
          "metadata": {
            "needs_background": "light"
          }
        }
      ],
      "source": [
        "sns.scatterplot(x='total_bill', y='tip', data=tips)\n",
        "plt.plot(tips[\"total_bill\"], regression, color = 'r')\n",
        "plt.xlabel('total_bill')\n",
        "plt.ylabel('tip');"
      ]
    },
    {
      "cell_type": "markdown",
      "metadata": {
        "id": "r89tmNJOkAS4"
      },
      "source": [
        "### Question 1e"
      ]
    },
    {
      "cell_type": "markdown",
      "metadata": {
        "id": "CMpWQVKQkAS5"
      },
      "source": [
        "Consider $r$, the correlation coefficient between `tips` and `total_bill`."
      ]
    },
    {
      "cell_type": "code",
      "execution_count": null,
      "metadata": {
        "id": "pxVmSSXSkAS6"
      },
      "outputs": [],
      "source": [
        "r"
      ]
    },
    {
      "cell_type": "markdown",
      "metadata": {
        "deletable": false,
        "editable": false,
        "id": "1rYwrdtokAS8"
      },
      "source": [
        "**In the cell below**, comment on the value of $r$, and what it means in the context of the above scatter plot.\n",
        "<!--\n",
        "BEGIN QUESTION\n",
        "name: q4b\n",
        "-->"
      ]
    },
    {
      "cell_type": "markdown",
      "metadata": {
        "id": "qngs-BLakAS9"
      },
      "source": [
        "**YOUR ANSWER HERE**"
      ]
    },
    {
      "cell_type": "markdown",
      "metadata": {
        "id": "3d9_LJmwkAS_"
      },
      "source": [
        "The value of r is the slope of the line of regression."
      ]
    },
    {
      "cell_type": "markdown",
      "metadata": {
        "id": "GJnr4W25kATB"
      },
      "source": [
        "## Question 2 – Using Scipy Minimize"
      ]
    },
    {
      "cell_type": "markdown",
      "metadata": {
        "id": "zU7oNwRckATD"
      },
      "source": [
        "`scipy.minimize` is a powerful method that can determine the optimal value of a variety of different functions. In practice, it is used to minimize functions that have no (or difficult to obtain) analytical solutions (it is a **numerical method**).\n",
        "\n",
        "It is overkill for our simple example, but nonetheless, we will show you how to use it, as it will become useful in the near future."
      ]
    },
    {
      "cell_type": "markdown",
      "metadata": {
        "id": "IeG0FVggkATF"
      },
      "source": [
        "First, we define the function `l2_tip_risk` which computes the empirical risk for a given choice of `a` and `b`. That is, it computes\n",
        "\n",
        "$$R(a, b) = \\frac{1}{n} \\sum_{i = 1}^n(y_i - (a + b x_i))^2$$\n",
        "\n",
        "where, again, $x$ and $y$ refer to `\"total_bill\"` and `\"tip\"`.\n",
        "\n",
        "As a reminder: Risk refers to the average loss on the training set.\n"
      ]
    },
    {
      "cell_type": "code",
      "execution_count": 65,
      "metadata": {
        "id": "jJD01FYtkATH"
      },
      "outputs": [],
      "source": [
        "def l2_tip_risk(a, b):\n",
        "    \"\"\"Returns average l2 loss between regression line for intercept a \n",
        "       and slope b\"\"\"\n",
        "    y_hat = a + b * tips[\"total_bill\"]\n",
        "    return np.mean((tips[\"tip\"] - y_hat)**2)"
      ]
    },
    {
      "cell_type": "markdown",
      "metadata": {
        "id": "AQMqLmF2kATI"
      },
      "source": [
        "Try out different `a` and `b` values. Observe that if you pick values close to the ones from the earlier part of this lab then the risk is lower. "
      ]
    },
    {
      "cell_type": "code",
      "execution_count": 66,
      "metadata": {
        "id": "gCozViTOkATJ",
        "colab": {
          "base_uri": "https://localhost:8080/"
        },
        "outputId": "0e596bb5-3db3-4910-acd7-cedafc2d78dc"
      },
      "outputs": [
        {
          "output_type": "execute_result",
          "data": {
            "text/plain": [
              "1.0523364057377045"
            ]
          },
          "metadata": {},
          "execution_count": 66
        }
      ],
      "source": [
        "l2_tip_risk(0.9, 0.1)"
      ]
    },
    {
      "cell_type": "markdown",
      "metadata": {
        "id": "Ufv9Lp6LkATL"
      },
      "source": [
        "The `minimize` function we saw in Lab 6 can also minimize functions of multiple variables. There's one quirk, however, which is that the function has to accept its parameters as a single list.\n",
        "\n",
        "For example, consider the multivariate $f(u, v) = u^2 - 2 u v - 3 v + 2 v^2$. It turns out this function's minimum is at $(1.5, 1.5)$. To minimize this function, we create `f`."
      ]
    },
    {
      "cell_type": "code",
      "execution_count": 67,
      "metadata": {
        "id": "1Nel85zokATM"
      },
      "outputs": [],
      "source": [
        "def f(theta):\n",
        "    u = theta[0]\n",
        "    v = theta[1]\n",
        "    return u**2 - 2 * u * v - 3 * v + 2 * v**2"
      ]
    },
    {
      "cell_type": "code",
      "execution_count": 68,
      "metadata": {
        "scrolled": true,
        "id": "4ibA0RdIkATN",
        "colab": {
          "base_uri": "https://localhost:8080/"
        },
        "outputId": "c1c74f1f-b142-46ba-aa66-9859c8a70d41"
      },
      "outputs": [
        {
          "output_type": "execute_result",
          "data": {
            "text/plain": [
              "      fun: -2.2499999999999982\n",
              " hess_inv: array([[0.99999999, 0.5       ],\n",
              "       [0.5       , 0.5       ]])\n",
              "      jac: array([-5.96046448e-08,  0.00000000e+00])\n",
              "  message: 'Optimization terminated successfully.'\n",
              "     nfev: 16\n",
              "      nit: 3\n",
              "     njev: 4\n",
              "   status: 0\n",
              "  success: True\n",
              "        x: array([1.49999995, 1.49999997])"
            ]
          },
          "metadata": {},
          "execution_count": 68
        }
      ],
      "source": [
        "from scipy.optimize import minimize\n",
        "minimize(f, x0 = [0.0, 0.0]) \n",
        "\n",
        "# As an aside: x0 is the \"initial guess\" for the optimal theta. Minimize iteratively updates theta.\n",
        "# We will study an iterative algorithm for function minimization in the coming weeks."
      ]
    },
    {
      "cell_type": "markdown",
      "metadata": {
        "deletable": false,
        "editable": false,
        "id": "29m_jV8hkATO"
      },
      "source": [
        "### Question 2a\n",
        "\n",
        "Define `l2_tip_risk_list` which is exactly like `l2_tip_risk` except that it takes in a single list of 2 variables rather than two separate variables. For example `l2_tip_risk_list([2, 3])` should return the same value as `l2_tip_risk(2, 3)`.\n",
        "\n",
        "<!--\n",
        "BEGIN QUESTION\n",
        "name: q2\n",
        "-->"
      ]
    },
    {
      "cell_type": "code",
      "execution_count": 71,
      "metadata": {
        "id": "2og652KckATQ"
      },
      "outputs": [],
      "source": [
        "def l2_tip_risk_list(theta):\n",
        "    \"\"\"Returns average l2 loss between regression line for intercept a \n",
        "       and slope b\"\"\"\n",
        "    y_hat = theta[0] + theta[1] * tips[\"total_bill\"]\n",
        "    return np.mean((tips[\"tip\"] - y_hat)**2)"
      ]
    },
    {
      "cell_type": "code",
      "execution_count": null,
      "metadata": {
        "deletable": false,
        "editable": false,
        "id": "ejquFNPkkATT"
      },
      "outputs": [],
      "source": [
        "grader.check(\"q2\")"
      ]
    },
    {
      "cell_type": "markdown",
      "metadata": {
        "deletable": false,
        "editable": false,
        "id": "Bx7h5BdykATV"
      },
      "source": [
        "### Question 2b\n",
        "\n",
        "Now, set `minimized` to the result of calling `minimize` to optimize this risk function.\n",
        "\n",
        "- Hint: Make sure to set `x0`.\n",
        "\n",
        "<!--\n",
        "BEGIN QUESTION\n",
        "name: q2b\n",
        "-->"
      ]
    },
    {
      "cell_type": "code",
      "execution_count": 72,
      "metadata": {
        "id": "NPL7b1D_kATX"
      },
      "outputs": [],
      "source": [
        "minimized = minimize(l2_tip_risk_list, x0 = [0,0])"
      ]
    },
    {
      "cell_type": "markdown",
      "metadata": {
        "id": "PbFgDWyQkATY"
      },
      "source": [
        "Let's look at the output of your call to `minimize`."
      ]
    },
    {
      "cell_type": "code",
      "execution_count": 73,
      "metadata": {
        "id": "QMaMO4YNkATZ",
        "colab": {
          "base_uri": "https://localhost:8080/"
        },
        "outputId": "2f349404-555f-4bdc-e26c-9ad9b8ad94a7"
      },
      "outputs": [
        {
          "output_type": "execute_result",
          "data": {
            "text/plain": [
              "      fun: 1.0360194420116033\n",
              " hess_inv: array([[ 2.980001  , -0.12534156],\n",
              "       [-0.12534156,  0.00633488]])\n",
              "      jac: array([5.96046448e-08, 5.96046448e-08])\n",
              "  message: 'Optimization terminated successfully.'\n",
              "     nfev: 20\n",
              "      nit: 3\n",
              "     njev: 5\n",
              "   status: 0\n",
              "  success: True\n",
              "        x: array([0.92027071, 0.10502446])"
            ]
          },
          "metadata": {},
          "execution_count": 73
        }
      ],
      "source": [
        "minimized"
      ]
    },
    {
      "cell_type": "markdown",
      "metadata": {
        "id": "ZBvxAwmrkATc"
      },
      "source": [
        "The following cell will print out the values of `a_hat` and `b_hat` computed from both methods (\"manual\" refers to the technique in Question 1). If you've done everything correctly, these should be very close to one another."
      ]
    },
    {
      "cell_type": "code",
      "execution_count": 74,
      "metadata": {
        "id": "9UTsVZUlkATd",
        "colab": {
          "base_uri": "https://localhost:8080/"
        },
        "outputId": "9fe5d764-66de-419c-bc91-26f6061621d7"
      },
      "outputs": [
        {
          "output_type": "stream",
          "name": "stdout",
          "text": [
            "a_hat_scipy:  0.9202707061277714\n",
            "a_hat_manual:  0.9202696135546726\n",
            "\n",
            "\n",
            "b_hat_scipy:  0.10502446403982987\n",
            "b_hat_manual:  0.1050245173843534\n"
          ]
        }
      ],
      "source": [
        "print('a_hat_scipy: ', minimized['x'][0])\n",
        "print('a_hat_manual: ', a_hat)\n",
        "print('\\n')\n",
        "print('b_hat_scipy: ', minimized['x'][1])\n",
        "print('b_hat_manual: ', b_hat)"
      ]
    },
    {
      "cell_type": "markdown",
      "metadata": {
        "id": "AysUD3sCkATf"
      },
      "source": [
        "The reason these don't match past the first 5 decimal places is due to the fact that `scipy.minimize` is a numerical method, meaning it approximates the optimal value using an iterative procedure. You shouldn't worry about the tiny differences in solutions from different runs of `minimize`"
      ]
    },
    {
      "cell_type": "markdown",
      "metadata": {
        "id": "SB5uQkqvkATh"
      },
      "source": [
        "## Question 3 – Using Scikit Learn"
      ]
    },
    {
      "cell_type": "markdown",
      "metadata": {
        "id": "CdQWW6QGkATj"
      },
      "source": [
        "Yet another way to fit a linear regression model is to use scikit learn, an industry standard package for machine learning applications. \n",
        "\n",
        "To do so, we first create a `LinearRegression` object."
      ]
    },
    {
      "cell_type": "code",
      "execution_count": 84,
      "metadata": {
        "id": "pSkwVl-5kATk"
      },
      "outputs": [],
      "source": [
        "from sklearn.linear_model import LinearRegression\n",
        "model = LinearRegression()"
      ]
    },
    {
      "cell_type": "markdown",
      "metadata": {
        "id": "bhJC0IwqkATn"
      },
      "source": [
        "Here, `model` is like a \"blank slate\" for a linear model. Now, we need to tell `model` to \"fit\" itself to the data. Essentially, this is doing exactly what you did in the previous part of this lab (creating a risk function and finding the parameters that minimize that risk).\n",
        "\n",
        "<i>Note: `X` needs to be a matrix (or DataFrame), as opposed to a single array (or Series). This is because `sklearn.linear_model` is robust enough to be used for multiple regression, which we will look at in Question 4.</i>"
      ]
    },
    {
      "cell_type": "code",
      "execution_count": 85,
      "metadata": {
        "scrolled": true,
        "id": "m-my-lVekATp",
        "colab": {
          "base_uri": "https://localhost:8080/"
        },
        "outputId": "07f18890-5dec-4778-dc1f-f10fc43f9bb7"
      },
      "outputs": [
        {
          "output_type": "execute_result",
          "data": {
            "text/plain": [
              "LinearRegression()"
            ]
          },
          "metadata": {},
          "execution_count": 85
        }
      ],
      "source": [
        "model.fit(X = tips[['total_bill']], y= tips['tip'])"
      ]
    },
    {
      "cell_type": "markdown",
      "metadata": {
        "id": "IwZPjmIFkATq"
      },
      "source": [
        "Now that the model exists, we can look at the a_hat and b_hat values it found, which are given in the attributes `intercept` and `coef`, respectively."
      ]
    },
    {
      "cell_type": "code",
      "execution_count": 86,
      "metadata": {
        "id": "MlCST6tikATr",
        "colab": {
          "base_uri": "https://localhost:8080/"
        },
        "outputId": "ccdd04bb-fc18-42e5-a0bf-52b0d965a65c"
      },
      "outputs": [
        {
          "output_type": "execute_result",
          "data": {
            "text/plain": [
              "array([0.10502452])"
            ]
          },
          "metadata": {},
          "execution_count": 86
        }
      ],
      "source": [
        "model.coef_"
      ]
    },
    {
      "cell_type": "code",
      "execution_count": 87,
      "metadata": {
        "id": "GYcgne-rkATt",
        "colab": {
          "base_uri": "https://localhost:8080/"
        },
        "outputId": "77f9d575-f2a6-423b-b0e8-5d81c0825976"
      },
      "outputs": [
        {
          "output_type": "execute_result",
          "data": {
            "text/plain": [
              "0.9202696135546731"
            ]
          },
          "metadata": {},
          "execution_count": 87
        }
      ],
      "source": [
        "model.intercept_"
      ]
    },
    {
      "cell_type": "markdown",
      "metadata": {
        "id": "G9Gbi7JZkATu"
      },
      "source": [
        "To use the `scikit-learn` linear regression model to make predictions, you can use the `model.predict` method:"
      ]
    },
    {
      "cell_type": "code",
      "execution_count": 88,
      "metadata": {
        "id": "vE-Blc-0kATv",
        "colab": {
          "base_uri": "https://localhost:8080/"
        },
        "outputId": "f1bd71af-a8d5-4066-d525-5f6df0dbebb7"
      },
      "outputs": [
        {
          "output_type": "stream",
          "name": "stderr",
          "text": [
            "/usr/local/lib/python3.7/dist-packages/sklearn/base.py:451: UserWarning: X does not have valid feature names, but LinearRegression was fitted with feature names\n",
            "  \"X does not have valid feature names, but\"\n"
          ]
        },
        {
          "output_type": "execute_result",
          "data": {
            "text/plain": [
              "array([3.02075996])"
            ]
          },
          "metadata": {},
          "execution_count": 88
        }
      ],
      "source": [
        "model.predict([[20]]) # 20 needs to be a 2D array since the X above was a 2D array."
      ]
    },
    {
      "cell_type": "markdown",
      "metadata": {
        "id": "BT1rFJu9kATx"
      },
      "source": [
        "The above line of code tells us that `model` predicts a tip of $\\$3.02$ given a total bill amount of $\\$20$. This is the same as doing `a_hat + b_hat * 20` as in Question 1c."
      ]
    },
    {
      "cell_type": "markdown",
      "metadata": {
        "deletable": false,
        "editable": false,
        "id": "gcjLn1jlkATz"
      },
      "source": [
        "### Question 3a\n",
        "\n",
        "Create a linear regression plot using `model.predict`. It should look very similar (if not the same) as your plot from Question 1d.\n",
        "\n",
        "<!--\n",
        "BEGIN QUESTION\n",
        "name: q3a\n",
        "-->"
      ]
    },
    {
      "cell_type": "code",
      "execution_count": 95,
      "metadata": {
        "scrolled": true,
        "id": "9haYcr4-kAT1",
        "colab": {
          "base_uri": "https://localhost:8080/",
          "height": 280
        },
        "outputId": "442b45dc-67e0-4f30-8b43-afcf3b6d3f5b"
      },
      "outputs": [
        {
          "output_type": "display_data",
          "data": {
            "text/plain": [
              "<Figure size 432x288 with 1 Axes>"
            ],
            "image/png": "[encoded data removed]"
          },
          "metadata": {
            "needs_background": "light"
          }
        }
      ],
      "source": [
        "predicted_tip = model.predict(tips[[\"total_bill\"]])\n",
        "sns.scatterplot(x='total_bill', y='tip', data=tips)\n",
        "plt.plot(tips[\"total_bill\"],  predicted_tip, color = 'r');"
      ]
    },
    {
      "cell_type": "markdown",
      "metadata": {
        "id": "A4sr9xCMkAT3"
      },
      "source": [
        "## Question 4 – Multiple Linear Regression"
      ]
    },
    {
      "cell_type": "markdown",
      "metadata": {
        "id": "EJfRU0ERkAT4"
      },
      "source": [
        "In the previous parts we showed how to establish relationships between one independent explanatory variable and one response variable. However, with real-world problems you will often want to use **multiple features** to model and predict a response variable. To do so, we will use multiple linear regression, as discussed in [Lecture 13](http://ds100.org/sp21/lecture/lec13/). Multiple linear regression attempts to model the relationship between two or more explanatory variables and a response variable by fitting a linear equation to the observed data. Formally, the model for multiple linear regression, given $p$ features is:\n",
        "\n",
        "$$y_i = \\theta_0 + \\theta_1 x_1 + \\theta_2 x_2 + … + \\theta_p x_p $$\n",
        "\n",
        "Please note that we have been using the terms **features**, **independent variables**, and **explanatory variables** interchangeably. Usually “features” are used in the context of machine learning when you are trying to make predictions. “Independent variables” and “explanatory variables” are mainly found in statistics, econometrics and other related fields which focus on understanding the relationship between a set of variables.  \n",
        "\n",
        "\n",
        "For example, consider the plot below which shows fuel efficiency vs. engine power for several models of automobiles."
      ]
    },
    {
      "cell_type": "code",
      "execution_count": 136,
      "metadata": {
        "id": "FajyrJjEkAT5",
        "colab": {
          "base_uri": "https://localhost:8080/",
          "height": 206
        },
        "outputId": "7ce04fb7-ca01-4409-c0ef-4d8be3523792"
      },
      "outputs": [
        {
          "output_type": "execute_result",
          "data": {
            "text/plain": [
              "      mpg  cylinders  displacement  horsepower  weight  acceleration  \\\n",
              "19   26.0          4          97.0        46.0    1835          20.5   \n",
              "102  26.0          4          97.0        46.0    1950          21.0   \n",
              "326  43.4          4          90.0        48.0    2335          23.7   \n",
              "325  44.3          4          90.0        48.0    2085          21.7   \n",
              "244  43.1          4          90.0        48.0    1985          21.5   \n",
              "\n",
              "     model_year  origin                             name  \n",
              "19           70  europe     volkswagen 1131 deluxe sedan  \n",
              "102          73  europe          volkswagen super beetle  \n",
              "326          80  europe               vw dasher (diesel)  \n",
              "325          80  europe             vw rabbit c (diesel)  \n",
              "244          78  europe  volkswagen rabbit custom diesel  "
            ],
            "text/html": [
              "\n",
              "  <div id=\"df-ebf8546d-17f9-4ea1-8568-73f5922f89e5\">\n",
              "    <div class=\"colab-df-container\">\n",
              "      <div>\n",
              "<style scoped>\n",
              "    .dataframe tbody tr th:only-of-type {\n",
              "        vertical-align: middle;\n",
              "    }\n",
              "\n",
              "    .dataframe tbody tr th {\n",
              "        vertical-align: top;\n",
              "    }\n",
              "\n",
              "    .dataframe thead th {\n",
              "        text-align: right;\n",
              "    }\n",
              "</style>\n",
              "<table border=\"1\" class=\"dataframe\">\n",
              "  <thead>\n",
              "    <tr style=\"text-align: right;\">\n",
              "      <th></th>\n",
              "      <th>mpg</th>\n",
              "      <th>cylinders</th>\n",
              "      <th>displacement</th>\n",
              "      <th>horsepower</th>\n",
              "      <th>weight</th>\n",
              "      <th>acceleration</th>\n",
              "      <th>model_year</th>\n",
              "      <th>origin</th>\n",
              "      <th>name</th>\n",
              "    </tr>\n",
              "  </thead>\n",
              "  <tbody>\n",
              "    <tr>\n",
              "      <th>19</th>\n",
              "      <td>26.0</td>\n",
              "      <td>4</td>\n",
              "      <td>97.0</td>\n",
              "      <td>46.0</td>\n",
              "      <td>1835</td>\n",
              "      <td>20.5</td>\n",
              "      <td>70</td>\n",
              "      <td>europe</td>\n",
              "      <td>volkswagen 1131 deluxe sedan</td>\n",
              "    </tr>\n",
              "    <tr>\n",
              "      <th>102</th>\n",
              "      <td>26.0</td>\n",
              "      <td>4</td>\n",
              "      <td>97.0</td>\n",
              "      <td>46.0</td>\n",
              "      <td>1950</td>\n",
              "      <td>21.0</td>\n",
              "      <td>73</td>\n",
              "      <td>europe</td>\n",
              "      <td>volkswagen super beetle</td>\n",
              "    </tr>\n",
              "    <tr>\n",
              "      <th>326</th>\n",
              "      <td>43.4</td>\n",
              "      <td>4</td>\n",
              "      <td>90.0</td>\n",
              "      <td>48.0</td>\n",
              "      <td>2335</td>\n",
              "      <td>23.7</td>\n",
              "      <td>80</td>\n",
              "      <td>europe</td>\n",
              "      <td>vw dasher (diesel)</td>\n",
              "    </tr>\n",
              "    <tr>\n",
              "      <th>325</th>\n",
              "      <td>44.3</td>\n",
              "      <td>4</td>\n",
              "      <td>90.0</td>\n",
              "      <td>48.0</td>\n",
              "      <td>2085</td>\n",
              "      <td>21.7</td>\n",
              "      <td>80</td>\n",
              "      <td>europe</td>\n",
              "      <td>vw rabbit c (diesel)</td>\n",
              "    </tr>\n",
              "    <tr>\n",
              "      <th>244</th>\n",
              "      <td>43.1</td>\n",
              "      <td>4</td>\n",
              "      <td>90.0</td>\n",
              "      <td>48.0</td>\n",
              "      <td>1985</td>\n",
              "      <td>21.5</td>\n",
              "      <td>78</td>\n",
              "      <td>europe</td>\n",
              "      <td>volkswagen rabbit custom diesel</td>\n",
              "    </tr>\n",
              "  </tbody>\n",
              "</table>\n",
              "</div>\n",
              "      <button class=\"colab-df-convert\" onclick=\"convertToInteractive('df-ebf8546d-17f9-4ea1-8568-73f5922f89e5')\"\n",
              "              title=\"Convert this dataframe to an interactive table.\"\n",
              "              style=\"display:none;\">\n",
              "        \n",
              "  <svg xmlns=\"http://www.w3.org/2000/svg\" height=\"24px\"viewBox=\"0 0 24 24\"\n",
              "       width=\"24px\">\n",
              "    <path d=\"M0 0h24v24H0V0z\" fill=\"none\"/>\n",
              "    <path d=\"M18.56 5.44l.94 2.06.94-2.06 2.06-.94-2.06-.94-.94-2.06-.94 2.06-2.06.94zm-11 1L8.5 8.5l.94-2.06 2.06-.94-2.06-.94L8.5 2.5l-.94 2.06-2.06.94zm10 10l.94 2.06.94-2.06 2.06-.94-2.06-.94-.94-2.06-.94 2.06-2.06.94z\"/><path d=\"M17.41 7.96l-1.37-1.37c-.4-.4-.92-.59-1.43-.59-.52 0-1.04.2-1.43.59L10.3 9.45l-7.72 7.72c-.78.78-.78 2.05 0 2.83L4 21.41c.39.39.9.59 1.41.59.51 0 1.02-.2 1.41-.59l7.78-7.78 2.81-2.81c.8-.78.8-2.07 0-2.86zM5.41 20L4 18.59l7.72-7.72 1.47 1.35L5.41 20z\"/>\n",
              "  </svg>\n",
              "      </button>\n",
              "      \n",
              "  <style>\n",
              "    .colab-df-container {\n",
              "      display:flex;\n",
              "      flex-wrap:wrap;\n",
              "      gap: 12px;\n",
              "    }\n",
              "\n",
              "    .colab-df-convert {\n",
              "      background-color: #E8F0FE;\n",
              "      border: none;\n",
              "      border-radius: 50%;\n",
              "      cursor: pointer;\n",
              "      display: none;\n",
              "      fill: #1967D2;\n",
              "      height: 32px;\n",
              "      padding: 0 0 0 0;\n",
              "      width: 32px;\n",
              "    }\n",
              "\n",
              "    .colab-df-convert:hover {\n",
              "      background-color: #E2EBFA;\n",
              "      box-shadow: 0px 1px 2px rgba(60, 64, 67, 0.3), 0px 1px 3px 1px rgba(60, 64, 67, 0.15);\n",
              "      fill: #174EA6;\n",
              "    }\n",
              "\n",
              "    [theme=dark] .colab-df-convert {\n",
              "      background-color: #3B4455;\n",
              "      fill: #D2E3FC;\n",
              "    }\n",
              "\n",
              "    [theme=dark] .colab-df-convert:hover {\n",
              "      background-color: #434B5C;\n",
              "      box-shadow: 0px 1px 3px 1px rgba(0, 0, 0, 0.15);\n",
              "      filter: drop-shadow(0px 1px 2px rgba(0, 0, 0, 0.3));\n",
              "      fill: #FFFFFF;\n",
              "    }\n",
              "  </style>\n",
              "\n",
              "      <script>\n",
              "        const buttonEl =\n",
              "          document.querySelector('#df-ebf8546d-17f9-4ea1-8568-73f5922f89e5 button.colab-df-convert');\n",
              "        buttonEl.style.display =\n",
              "          google.colab.kernel.accessAllowed ? 'block' : 'none';\n",
              "\n",
              "        async function convertToInteractive(key) {\n",
              "          const element = document.querySelector('#df-ebf8546d-17f9-4ea1-8568-73f5922f89e5');\n",
              "          const dataTable =\n",
              "            await google.colab.kernel.invokeFunction('convertToInteractive',\n",
              "                                                     [key], {});\n",
              "          if (!dataTable) return;\n",
              "\n",
              "          const docLinkHtml = 'Like what you see? Visit the ' +\n",
              "            '<a target=\"_blank\" href=https://colab.research.google.com/notebooks/data_table.ipynb>data table notebook</a>'\n",
              "            + ' to learn more about interactive tables.';\n",
              "          element.innerHTML = '';\n",
              "          dataTable['output_type'] = 'display_data';\n",
              "          await google.colab.output.renderOutput(dataTable, element);\n",
              "          const docLink = document.createElement('div');\n",
              "          docLink.innerHTML = docLinkHtml;\n",
              "          element.appendChild(docLink);\n",
              "        }\n",
              "      </script>\n",
              "    </div>\n",
              "  </div>\n",
              "  "
            ]
          },
          "metadata": {},
          "execution_count": 136
        }
      ],
      "source": [
        "# Here, we load the fuel dataset, and drop any rows that have missing data\n",
        "vehicle_data = sns.load_dataset('mpg').dropna()\n",
        "vehicle_data = vehicle_data.sort_values('horsepower', ascending=True)\n",
        "vehicle_data.head(5)"
      ]
    },
    {
      "cell_type": "code",
      "execution_count": 137,
      "metadata": {
        "id": "qPIhUgqbkAT7",
        "colab": {
          "base_uri": "https://localhost:8080/",
          "height": 279
        },
        "outputId": "9498071e-3507-4dc4-c674-bb92c24bf9f5"
      },
      "outputs": [
        {
          "output_type": "display_data",
          "data": {
            "text/plain": [
              "<Figure size 432x288 with 1 Axes>"
            ],
            "image/png": "[encoded data removed]"
          },
          "metadata": {
            "needs_background": "light"
          }
        }
      ],
      "source": [
        "sns.scatterplot(x='horsepower', y='mpg', data=vehicle_data);"
      ]
    },
    {
      "cell_type": "markdown",
      "metadata": {
        "id": "bsdDyBF-kAUQ"
      },
      "source": [
        "If we use `horsepower` alone to predict `mpg`, we get not-so-great results."
      ]
    },
    {
      "cell_type": "code",
      "execution_count": 138,
      "metadata": {
        "id": "rZb53nu5kAUR",
        "colab": {
          "base_uri": "https://localhost:8080/",
          "height": 369
        },
        "outputId": "2f2821bf-ca31-46d6-c17f-148ec37f9bfa"
      },
      "outputs": [
        {
          "output_type": "display_data",
          "data": {
            "text/plain": [
              "<Figure size 360x360 with 1 Axes>"
            ],
            "image/png": "[encoded data removed]"
          },
          "metadata": {
            "needs_background": "light"
          }
        }
      ],
      "source": [
        "sns.lmplot(x='horsepower', y='mpg', data=vehicle_data);"
      ]
    },
    {
      "cell_type": "markdown",
      "metadata": {
        "id": "_8FFlacfkAUS"
      },
      "source": [
        "Below, we make a residual plot of the residuals versus the fitted values for this simple linear regression model."
      ]
    },
    {
      "cell_type": "code",
      "execution_count": 139,
      "metadata": {
        "scrolled": true,
        "id": "ul9hwb7wkAUU",
        "colab": {
          "base_uri": "https://localhost:8080/",
          "height": 279
        },
        "outputId": "4902fa3a-6499-4666-848d-468905df6d00"
      },
      "outputs": [
        {
          "output_type": "display_data",
          "data": {
            "text/plain": [
              "<Figure size 432x288 with 1 Axes>"
            ],
            "image/png": "[encoded data removed]"
          },
          "metadata": {
            "needs_background": "light"
          }
        }
      ],
      "source": [
        "model_simple = LinearRegression()\n",
        "model_simple.fit(vehicle_data[['horsepower']], vehicle_data['mpg'])\n",
        "model_simple_fitted = model_simple.predict(vehicle_data[['horsepower']])\n",
        "plt.scatter(model_simple_fitted, vehicle_data['mpg'] - model_simple_fitted)\n",
        "plt.xlabel('Fitted Values')\n",
        "plt.ylabel('Residuals');"
      ]
    },
    {
      "cell_type": "markdown",
      "metadata": {
        "id": "AHGcxNNWkAUV"
      },
      "source": [
        "This is not an example of a \"good\" residual plot. There is an underlying parabolic pattern in the residuals, so we should consider adding a quadratic feature."
      ]
    },
    {
      "cell_type": "markdown",
      "metadata": {
        "id": "WSlEEMpckAUW"
      },
      "source": [
        "We can consider including functions of existing features as new features to help improve the predictive power of our model. (This is something we will discuss in further detail in the Feature Engineering lecture, Lecture 14.) For example, the line below adds a column which contains the square of the horsepower for each car in the dataset."
      ]
    },
    {
      "cell_type": "code",
      "execution_count": 140,
      "metadata": {
        "id": "Fi2-8g6RkAUX",
        "colab": {
          "base_uri": "https://localhost:8080/",
          "height": 206
        },
        "outputId": "da39f089-09e4-46a6-c56d-3c922032e754"
      },
      "outputs": [
        {
          "output_type": "execute_result",
          "data": {
            "text/plain": [
              "      mpg  cylinders  displacement  horsepower  weight  acceleration  \\\n",
              "19   26.0          4          97.0        46.0    1835          20.5   \n",
              "102  26.0          4          97.0        46.0    1950          21.0   \n",
              "326  43.4          4          90.0        48.0    2335          23.7   \n",
              "325  44.3          4          90.0        48.0    2085          21.7   \n",
              "244  43.1          4          90.0        48.0    1985          21.5   \n",
              "\n",
              "     model_year  origin                             name    hp^2  \n",
              "19           70  europe     volkswagen 1131 deluxe sedan  2116.0  \n",
              "102          73  europe          volkswagen super beetle  2116.0  \n",
              "326          80  europe               vw dasher (diesel)  2304.0  \n",
              "325          80  europe             vw rabbit c (diesel)  2304.0  \n",
              "244          78  europe  volkswagen rabbit custom diesel  2304.0  "
            ],
            "text/html": [
              "\n",
              "  <div id=\"df-32f56693-ce32-4d03-ae5a-67d90c523adf\">\n",
              "    <div class=\"colab-df-container\">\n",
              "      <div>\n",
              "<style scoped>\n",
              "    .dataframe tbody tr th:only-of-type {\n",
              "        vertical-align: middle;\n",
              "    }\n",
              "\n",
              "    .dataframe tbody tr th {\n",
              "        vertical-align: top;\n",
              "    }\n",
              "\n",
              "    .dataframe thead th {\n",
              "        text-align: right;\n",
              "    }\n",
              "</style>\n",
              "<table border=\"1\" class=\"dataframe\">\n",
              "  <thead>\n",
              "    <tr style=\"text-align: right;\">\n",
              "      <th></th>\n",
              "      <th>mpg</th>\n",
              "      <th>cylinders</th>\n",
              "      <th>displacement</th>\n",
              "      <th>horsepower</th>\n",
              "      <th>weight</th>\n",
              "      <th>acceleration</th>\n",
              "      <th>model_year</th>\n",
              "      <th>origin</th>\n",
              "      <th>name</th>\n",
              "      <th>hp^2</th>\n",
              "    </tr>\n",
              "  </thead>\n",
              "  <tbody>\n",
              "    <tr>\n",
              "      <th>19</th>\n",
              "      <td>26.0</td>\n",
              "      <td>4</td>\n",
              "      <td>97.0</td>\n",
              "      <td>46.0</td>\n",
              "      <td>1835</td>\n",
              "      <td>20.5</td>\n",
              "      <td>70</td>\n",
              "      <td>europe</td>\n",
              "      <td>volkswagen 1131 deluxe sedan</td>\n",
              "      <td>2116.0</td>\n",
              "    </tr>\n",
              "    <tr>\n",
              "      <th>102</th>\n",
              "      <td>26.0</td>\n",
              "      <td>4</td>\n",
              "      <td>97.0</td>\n",
              "      <td>46.0</td>\n",
              "      <td>1950</td>\n",
              "      <td>21.0</td>\n",
              "      <td>73</td>\n",
              "      <td>europe</td>\n",
              "      <td>volkswagen super beetle</td>\n",
              "      <td>2116.0</td>\n",
              "    </tr>\n",
              "    <tr>\n",
              "      <th>326</th>\n",
              "      <td>43.4</td>\n",
              "      <td>4</td>\n",
              "      <td>90.0</td>\n",
              "      <td>48.0</td>\n",
              "      <td>2335</td>\n",
              "      <td>23.7</td>\n",
              "      <td>80</td>\n",
              "      <td>europe</td>\n",
              "      <td>vw dasher (diesel)</td>\n",
              "      <td>2304.0</td>\n",
              "    </tr>\n",
              "    <tr>\n",
              "      <th>325</th>\n",
              "      <td>44.3</td>\n",
              "      <td>4</td>\n",
              "      <td>90.0</td>\n",
              "      <td>48.0</td>\n",
              "      <td>2085</td>\n",
              "      <td>21.7</td>\n",
              "      <td>80</td>\n",
              "      <td>europe</td>\n",
              "      <td>vw rabbit c (diesel)</td>\n",
              "      <td>2304.0</td>\n",
              "    </tr>\n",
              "    <tr>\n",
              "      <th>244</th>\n",
              "      <td>43.1</td>\n",
              "      <td>4</td>\n",
              "      <td>90.0</td>\n",
              "      <td>48.0</td>\n",
              "      <td>1985</td>\n",
              "      <td>21.5</td>\n",
              "      <td>78</td>\n",
              "      <td>europe</td>\n",
              "      <td>volkswagen rabbit custom diesel</td>\n",
              "      <td>2304.0</td>\n",
              "    </tr>\n",
              "  </tbody>\n",
              "</table>\n",
              "</div>\n",
              "      <button class=\"colab-df-convert\" onclick=\"convertToInteractive('df-32f56693-ce32-4d03-ae5a-67d90c523adf')\"\n",
              "              title=\"Convert this dataframe to an interactive table.\"\n",
              "              style=\"display:none;\">\n",
              "        \n",
              "  <svg xmlns=\"http://www.w3.org/2000/svg\" height=\"24px\"viewBox=\"0 0 24 24\"\n",
              "       width=\"24px\">\n",
              "    <path d=\"M0 0h24v24H0V0z\" fill=\"none\"/>\n",
              "    <path d=\"M18.56 5.44l.94 2.06.94-2.06 2.06-.94-2.06-.94-.94-2.06-.94 2.06-2.06.94zm-11 1L8.5 8.5l.94-2.06 2.06-.94-2.06-.94L8.5 2.5l-.94 2.06-2.06.94zm10 10l.94 2.06.94-2.06 2.06-.94-2.06-.94-.94-2.06-.94 2.06-2.06.94z\"/><path d=\"M17.41 7.96l-1.37-1.37c-.4-.4-.92-.59-1.43-.59-.52 0-1.04.2-1.43.59L10.3 9.45l-7.72 7.72c-.78.78-.78 2.05 0 2.83L4 21.41c.39.39.9.59 1.41.59.51 0 1.02-.2 1.41-.59l7.78-7.78 2.81-2.81c.8-.78.8-2.07 0-2.86zM5.41 20L4 18.59l7.72-7.72 1.47 1.35L5.41 20z\"/>\n",
              "  </svg>\n",
              "      </button>\n",
              "      \n",
              "  <style>\n",
              "    .colab-df-container {\n",
              "      display:flex;\n",
              "      flex-wrap:wrap;\n",
              "      gap: 12px;\n",
              "    }\n",
              "\n",
              "    .colab-df-convert {\n",
              "      background-color: #E8F0FE;\n",
              "      border: none;\n",
              "      border-radius: 50%;\n",
              "      cursor: pointer;\n",
              "      display: none;\n",
              "      fill: #1967D2;\n",
              "      height: 32px;\n",
              "      padding: 0 0 0 0;\n",
              "      width: 32px;\n",
              "    }\n",
              "\n",
              "    .colab-df-convert:hover {\n",
              "      background-color: #E2EBFA;\n",
              "      box-shadow: 0px 1px 2px rgba(60, 64, 67, 0.3), 0px 1px 3px 1px rgba(60, 64, 67, 0.15);\n",
              "      fill: #174EA6;\n",
              "    }\n",
              "\n",
              "    [theme=dark] .colab-df-convert {\n",
              "      background-color: #3B4455;\n",
              "      fill: #D2E3FC;\n",
              "    }\n",
              "\n",
              "    [theme=dark] .colab-df-convert:hover {\n",
              "      background-color: #434B5C;\n",
              "      box-shadow: 0px 1px 3px 1px rgba(0, 0, 0, 0.15);\n",
              "      filter: drop-shadow(0px 1px 2px rgba(0, 0, 0, 0.3));\n",
              "      fill: #FFFFFF;\n",
              "    }\n",
              "  </style>\n",
              "\n",
              "      <script>\n",
              "        const buttonEl =\n",
              "          document.querySelector('#df-32f56693-ce32-4d03-ae5a-67d90c523adf button.colab-df-convert');\n",
              "        buttonEl.style.display =\n",
              "          google.colab.kernel.accessAllowed ? 'block' : 'none';\n",
              "\n",
              "        async function convertToInteractive(key) {\n",
              "          const element = document.querySelector('#df-32f56693-ce32-4d03-ae5a-67d90c523adf');\n",
              "          const dataTable =\n",
              "            await google.colab.kernel.invokeFunction('convertToInteractive',\n",
              "                                                     [key], {});\n",
              "          if (!dataTable) return;\n",
              "\n",
              "          const docLinkHtml = 'Like what you see? Visit the ' +\n",
              "            '<a target=\"_blank\" href=https://colab.research.google.com/notebooks/data_table.ipynb>data table notebook</a>'\n",
              "            + ' to learn more about interactive tables.';\n",
              "          element.innerHTML = '';\n",
              "          dataTable['output_type'] = 'display_data';\n",
              "          await google.colab.output.renderOutput(dataTable, element);\n",
              "          const docLink = document.createElement('div');\n",
              "          docLink.innerHTML = docLinkHtml;\n",
              "          element.appendChild(docLink);\n",
              "        }\n",
              "      </script>\n",
              "    </div>\n",
              "  </div>\n",
              "  "
            ]
          },
          "metadata": {},
          "execution_count": 140
        }
      ],
      "source": [
        "vehicle_data['hp^2'] = vehicle_data['horsepower'] ** 2\n",
        "vehicle_data.head()"
      ]
    },
    {
      "cell_type": "markdown",
      "metadata": {
        "deletable": false,
        "editable": false,
        "id": "kk2VPRJHkAUZ"
      },
      "source": [
        "### Question 4a\n",
        "\n",
        "Using scikit learn's `LinearRegression`, create and fit a model that tries to predict `mpg` from `horsepower` AND `hp^2`. Name your model `model_multiple`.\n",
        "\n",
        "- Hint: We do something very similar in Question 3.\n",
        "\n",
        "<!--\n",
        "BEGIN QUESTION\n",
        "name: q4a\n",
        "-->"
      ]
    },
    {
      "cell_type": "code",
      "execution_count": 197,
      "metadata": {
        "id": "9nuxITlJkAUa",
        "colab": {
          "base_uri": "https://localhost:8080/"
        },
        "outputId": "ba97a139-3250-4b8c-c020-f5d7b367f789"
      },
      "outputs": [
        {
          "output_type": "execute_result",
          "data": {
            "text/plain": [
              "LinearRegression()"
            ]
          },
          "metadata": {},
          "execution_count": 197
        }
      ],
      "source": [
        "model_multiple = LinearRegression()\n",
        "model_multiple.fit(X = vehicle_data[[\"horsepower\", \"hp^2\"]], y = vehicle_data[[\"mpg\"]])"
      ]
    },
    {
      "cell_type": "code",
      "execution_count": null,
      "metadata": {
        "deletable": false,
        "editable": false,
        "id": "Ho1oDgBDkAUb"
      },
      "outputs": [],
      "source": [
        "grader.check(\"q4a\")"
      ]
    },
    {
      "cell_type": "markdown",
      "metadata": {
        "id": "ruEa-gjfkAUc"
      },
      "source": [
        "After fitting, we can see the coefficients and intercept. Note, there are now two elements in `model_multiple.coef_`, since there are two features."
      ]
    },
    {
      "cell_type": "code",
      "execution_count": 200,
      "metadata": {
        "id": "jYVLl9WtkAUd",
        "colab": {
          "base_uri": "https://localhost:8080/"
        },
        "outputId": "77c6f297-a3dd-4c66-afc8-c2aea8b1384f"
      },
      "outputs": [
        {
          "output_type": "execute_result",
          "data": {
            "text/plain": [
              "array([[-0.46618963,  0.00123054]])"
            ]
          },
          "metadata": {},
          "execution_count": 200
        }
      ],
      "source": [
        "model_multiple.coef_"
      ]
    },
    {
      "cell_type": "code",
      "execution_count": 199,
      "metadata": {
        "id": "oIunXg1pkAUe",
        "colab": {
          "base_uri": "https://localhost:8080/"
        },
        "outputId": "4ebb49e3-cc3c-4d20-f127-1aec5a442d4c"
      },
      "outputs": [
        {
          "output_type": "execute_result",
          "data": {
            "text/plain": [
              "array([56.9000997])"
            ]
          },
          "metadata": {},
          "execution_count": 199
        }
      ],
      "source": [
        "model_multiple.intercept_"
      ]
    },
    {
      "cell_type": "markdown",
      "metadata": {
        "deletable": false,
        "editable": false,
        "id": "ClAbaGKkkAUf"
      },
      "source": [
        "### Question 4b\n",
        "\n",
        "Using the above values, in LaTeX, write out the function that the model is using to predict `mpg` from `horsepower` and `hp^2`.\n",
        "\n",
        "<!--\n",
        "BEGIN QUESTION\n",
        "name: q4b\n",
        "-->"
      ]
    },
    {
      "cell_type": "markdown",
      "metadata": {
        "id": "O7r8C8sKkAUg"
      },
      "source": [
        "$$mpg = -0.47hp + .0012hp^2 + 56.9$$"
      ]
    },
    {
      "cell_type": "markdown",
      "metadata": {
        "id": "Ui_VfaZfkAUh"
      },
      "source": [
        "The plot below shows the prediction of our model. It's much better!"
      ]
    },
    {
      "cell_type": "code",
      "execution_count": 201,
      "metadata": {
        "id": "SeckeQfvkAUi",
        "colab": {
          "base_uri": "https://localhost:8080/",
          "height": 279
        },
        "outputId": "103e55f5-1413-46e3-bf96-4d5280e65e2e"
      },
      "outputs": [
        {
          "output_type": "display_data",
          "data": {
            "text/plain": [
              "<Figure size 432x288 with 1 Axes>"
            ],
            "image/png": "[encoded data removed]"
          },
          "metadata": {
            "needs_background": "light"
          }
        }
      ],
      "source": [
        "# DO NOT CHANGE THIS CELL\n",
        "predicted_mpg = model_multiple.predict(vehicle_data[['horsepower', 'hp^2']])\n",
        "sns.scatterplot(x='horsepower', y='mpg', data=vehicle_data)\n",
        "plt.plot(vehicle_data['horsepower'],  predicted_mpg, color = 'r');"
      ]
    },
    {
      "cell_type": "markdown",
      "metadata": {
        "deletable": false,
        "editable": false,
        "id": "XZ9DYPzekAUj"
      },
      "source": [
        "### Question 4c\n",
        "\n",
        "In the cell below, explain why we use the term \"linear\" to describe the model above, even though it incorporates horsepower squared as a feature.\n",
        "\n",
        "<!--\n",
        "BEGIN QUESTION\n",
        "name: q4c\n",
        "-->"
      ]
    },
    {
      "cell_type": "markdown",
      "metadata": {
        "id": "NQSsh3CzkAUk"
      },
      "source": [
        "We use the term linear because the quadratic feature is still derived from a linear feature."
      ]
    },
    {
      "cell_type": "markdown",
      "metadata": {
        "id": "RET80SuckAUm"
      },
      "source": [
        "To see exactly how much better our new model is, we can compare the Multiple $R^2$ from these two fits.  As described in Lecture 12,\n",
        "\n",
        "\n",
        "$$R^2 = \\frac{\\text{variance of fitted values}}{\\text{variance of true } y} = \\frac{\\sigma_{\\hat{y}}^2}{\\sigma_y^2}$$\n",
        "\n",
        "Unlike $r$, the correlation coefficient we looked at in Question 1, $R^2$  can be used\n",
        "in the multiple regression setting.  In simple regression, $r^{2}$ and Multiple $R^{2}$ are\n",
        "the same."
      ]
    },
    {
      "cell_type": "code",
      "execution_count": 202,
      "metadata": {
        "id": "GdEwdhaxkAUo",
        "colab": {
          "base_uri": "https://localhost:8080/"
        },
        "outputId": "f11b11ff-b204-4ba1-8dab-4d878af3dc1e"
      },
      "outputs": [
        {
          "output_type": "stream",
          "name": "stdout",
          "text": [
            "Multiple R^2 using only horsepower:  0.6059482578894351\n",
            "Multiple R^2 using both horsepower and horsepower squared:  0.6875590305127519\n"
          ]
        }
      ],
      "source": [
        "predicted_mpg_horsepower_only = (\n",
        "    LinearRegression()\n",
        "    .fit(X = vehicle_data[['horsepower']], y = vehicle_data['mpg'])\n",
        "    .predict(vehicle_data[['horsepower']])\n",
        ")\n",
        "\n",
        "r2_horsepower_only = np.var(predicted_mpg_horsepower_only) / np.var(vehicle_data['mpg'])\n",
        "r2_both = np.var(predicted_mpg) / np.var(vehicle_data['mpg'])\n",
        "\n",
        "print('Multiple R^2 using only horsepower: ', r2_horsepower_only)\n",
        "print('Multiple R^2 using both horsepower and horsepower squared: ', r2_both)"
      ]
    },
    {
      "cell_type": "markdown",
      "metadata": {
        "id": "mRrvfObvkAUq"
      },
      "source": [
        "By introducing `hp^2` as a feature, our multiple $R^2$ value increased. Think about what this means with respect to the strength of our refined model.\n"
      ]
    },
    {
      "cell_type": "markdown",
      "metadata": {
        "deletable": false,
        "editable": false,
        "id": "vfhlQP6MkAUr"
      },
      "source": [
        "### Question 4d\n",
        "\n",
        "In the cell below, we assign the mean of the `mpg` column of the `vehicle_data` dataframe to `mean_mpg`. Given this information, what is the mean of the `predicted_mpg` and `predicted_mpg_horsepower_only` arrays?\n",
        "\n",
        "Hint: You should not have to call `np.mean` in your code.\n",
        "\n",
        "<!--\n",
        "BEGIN QUESTION\n",
        "name: q4d\n",
        "-->"
      ]
    },
    {
      "cell_type": "code",
      "execution_count": 235,
      "metadata": {
        "id": "Z8b8aIVVkAUr"
      },
      "outputs": [],
      "source": [
        "mean_mpg = np.mean(vehicle_data['mpg'])\n",
        "mean_predicted_mpg = np.mean(predicted_mpg)\n",
        "mean_predicted_mpg_horsepower_only = np.mean(predicted_mpg_horsepower_only)"
      ]
    },
    {
      "cell_type": "code",
      "execution_count": null,
      "metadata": {
        "deletable": false,
        "editable": false,
        "id": "Yhf0CdQekAUs"
      },
      "outputs": [],
      "source": [
        "grader.check(\"q4d\")"
      ]
    },
    {
      "cell_type": "markdown",
      "metadata": {
        "id": "A3Hab5j_kAUt"
      },
      "source": [
        "## Question 5\n",
        "\n",
        "Let's take this one step further, and introduce a few more features.\n",
        "\n",
        "\n",
        "Again, using scikit learn's `LinearRegression`, we fit a model that tries to predict `mpg` using each of the following as features:\n",
        "- `horsepower`\n",
        "- `hp^2`\n",
        "- `model_year`\n",
        "- `acceleration`\n",
        "\n"
      ]
    },
    {
      "cell_type": "code",
      "execution_count": 236,
      "metadata": {
        "id": "aYCJiGdKkAUu",
        "colab": {
          "base_uri": "https://localhost:8080/"
        },
        "outputId": "08a18630-679d-44ce-d6c9-0a997ec30c2b"
      },
      "outputs": [
        {
          "output_type": "execute_result",
          "data": {
            "text/plain": [
              "LinearRegression()"
            ]
          },
          "metadata": {},
          "execution_count": 236
        }
      ],
      "source": [
        "desired_columns = ['horsepower', 'hp^2', 'model_year', 'acceleration']\n",
        "model_many = LinearRegression()\n",
        "model_many.fit(X = vehicle_data[desired_columns], y= vehicle_data['mpg'])"
      ]
    },
    {
      "cell_type": "markdown",
      "metadata": {
        "id": "qfqyXHZtkAUx"
      },
      "source": [
        "The plot below shows the prediction of our more sophisticated model."
      ]
    },
    {
      "cell_type": "code",
      "execution_count": 237,
      "metadata": {
        "scrolled": true,
        "id": "R1ytVGd0kAU1",
        "colab": {
          "base_uri": "https://localhost:8080/",
          "height": 279
        },
        "outputId": "19984b31-75df-40b6-fb55-f52bdb274a86"
      },
      "outputs": [
        {
          "output_type": "display_data",
          "data": {
            "text/plain": [
              "<Figure size 432x288 with 1 Axes>"
            ],
            "image/png": "[encoded data removed]"
          },
          "metadata": {
            "needs_background": "light"
          }
        }
      ],
      "source": [
        "predicted_mpg_many = model_many.predict(vehicle_data[['horsepower', 'hp^2', 'model_year', 'acceleration']])\n",
        "sns.scatterplot(x='horsepower', y='mpg', data=vehicle_data)\n",
        "plt.plot(vehicle_data['horsepower'],  predicted_mpg_many, color = 'r');"
      ]
    },
    {
      "cell_type": "markdown",
      "metadata": {
        "id": "4HEPm9rekAU4"
      },
      "source": [
        "Think about what you see in the above plot. Why is the shape of our prediction curve so jagged? Do you think this is a good model to predict the `mpg` of some car we don't already have information on?\n",
        "\n",
        "This idea – the **bias-variance tradeoff** – is an idea we will explore in the coming weeks."
      ]
    },
    {
      "cell_type": "markdown",
      "metadata": {
        "deletable": false,
        "editable": false,
        "id": "QCEIJ5FWkAU-"
      },
      "source": [
        "### Question 5a\n",
        "\n",
        "Lastly, set `r2_many` to be the multiple $R^2$ coefficient obtained by using `model_many`.\n",
        "\n",
        "- Hint: This is very similar to what we did right before Question 4d. Use `predicted_mpg_many`.\n",
        "- Note: The above plotting cell needs to have been run in order for this to work.\n",
        "\n",
        "<!--\n",
        "BEGIN QUESTION\n",
        "name: q5a\n",
        "-->"
      ]
    },
    {
      "cell_type": "code",
      "execution_count": 239,
      "metadata": {
        "id": "xnLqQi3BkAVA",
        "colab": {
          "base_uri": "https://localhost:8080/"
        },
        "outputId": "ff4aaa40-e7ca-4b36-d745-677d63d6b88e"
      },
      "outputs": [
        {
          "output_type": "stream",
          "name": "stdout",
          "text": [
            "0.8163086433998626\n"
          ]
        }
      ],
      "source": [
        "r2_many = np.var(predicted_mpg_many) / np.var(vehicle_data['mpg'])"
      ]
    },
    {
      "cell_type": "code",
      "execution_count": null,
      "metadata": {
        "deletable": false,
        "editable": false,
        "id": "9xw1iYqmkAVB"
      },
      "outputs": [],
      "source": [
        "grader.check(\"q5a\")"
      ]
    },
    {
      "cell_type": "code",
      "execution_count": 240,
      "metadata": {
        "id": "5pPgr6NCkAVC",
        "colab": {
          "base_uri": "https://localhost:8080/"
        },
        "outputId": "51e1b211-7d5a-45cb-8abd-877a6e5a7476"
      },
      "outputs": [
        {
          "output_type": "stream",
          "name": "stdout",
          "text": [
            "Multiple R^2 using only horsepower:  0.6059482578894351\n",
            "Multiple R^2 using both horsepower and horsepower squared:  0.6875590305127519\n",
            "Multiple R^2 using horsepower, horsepower squared, model year, and acceleration:  0.8163086433998626\n"
          ]
        }
      ],
      "source": [
        "print('Multiple R^2 using only horsepower: ', r2_horsepower_only)\n",
        "print('Multiple R^2 using both horsepower and horsepower squared: ', r2_both)\n",
        "print('Multiple R^2 using horsepower, horsepower squared, model year, and acceleration: ', r2_many)"
      ]
    },
    {
      "cell_type": "markdown",
      "metadata": {
        "id": "juFIfzb7kAVD"
      },
      "source": [
        "If everything was done correctly, the multiple $R^2$ of our latest model should be substantially higher than that of the previous two models. This is because multiple $R^2$ increases with the number of covariates we add to our model. \n",
        "\n",
        "We might not always want to use models with large multiple $R^2$ values because these models could be overfitting to the training data, and won't generalize well to unseen data. Again, this is an idea we will explore in future lectures and assignments."
      ]
    },
    {
      "cell_type": "markdown",
      "metadata": {
        "id": "qMsfhY1skAVF"
      },
      "source": [
        "# Congrats, you finished the lab!"
      ]
    },
    {
      "cell_type": "markdown",
      "metadata": {
        "deletable": false,
        "editable": false,
        "id": "G4Jr4UbAkAVH"
      },
      "source": [
        "---\n",
        "\n",
        "To double-check your work, the cell below will rerun all of the autograder tests."
      ]
    },
    {
      "cell_type": "code",
      "execution_count": null,
      "metadata": {
        "deletable": false,
        "editable": false,
        "id": "I5vShosTkAVJ"
      },
      "outputs": [],
      "source": [
        "grader.check_all()"
      ]
    },
    {
      "cell_type": "markdown",
      "metadata": {
        "deletable": false,
        "editable": false,
        "id": "kg2eudZfkAVL"
      },
      "source": [
        "## Submission\n",
        "\n",
        "Make sure you have run all cells in your notebook in order before running the cell below, so that all images/graphs appear in the output. The cell below will generate a zip file for you to submit. **Please save before exporting!**"
      ]
    },
    {
      "cell_type": "code",
      "execution_count": null,
      "metadata": {
        "deletable": false,
        "editable": false,
        "id": "yKnW2Sl_kAVM"
      },
      "outputs": [],
      "source": [
        "# Save your notebook first, then run this cell to export your submission.\n",
        "grader.export(pdf=False)"
      ]
    },
    {
      "cell_type": "markdown",
      "metadata": {
        "id": "susZ3HRUkAVN"
      },
      "source": [
        " "
      ]
    }
  ],
  "metadata": {
    "kernelspec": {
      "display_name": "Python 3 (ipykernel)",
      "language": "python",
      "name": "python3"
    },
    "language_info": {
      "codemirror_mode": {
        "name": "ipython",
        "version": 3
      },
      "file_extension": ".py",
      "mimetype": "text/x-python",
      "name": "python",
      "nbconvert_exporter": "python",
      "pygments_lexer": "ipython3",
      "version": "3.9.7"
    },
    "colab": {
      "name": "Copy of lab07.ipynb",
      "provenance": [],
      "collapsed_sections": []
    }
  },
  "nbformat": 4,
  "nbformat_minor": 0
}